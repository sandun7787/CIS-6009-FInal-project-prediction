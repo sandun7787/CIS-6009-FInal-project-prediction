{
 "cells": [
  {
   "cell_type": "code",
   "execution_count": 1,
   "id": "7296e4a3-9edc-422d-af49-1c7df290ea7e",
   "metadata": {},
   "outputs": [],
   "source": [
    "# Importing the pickle library to load the saved model\n",
    "import pickle\n",
    "\n",
    "# Loading the model from the file 'model.h5' using pickle\n",
    "model = pickle.load(open('HeartDiseasePrediction.h5', 'rb'))"
   ]
  },
  {
   "cell_type": "code",
   "execution_count": 2,
   "id": "8d6c0448-8174-4512-b07d-f3b14be0ca69",
   "metadata": {},
   "outputs": [],
   "source": [
    "# Importing the pandas library\n",
    "import pandas as pd"
   ]
  },
  {
   "cell_type": "code",
   "execution_count": 5,
   "id": "759c9f20-0950-4d2c-a6e8-5ac554e94567",
   "metadata": {},
   "outputs": [
    {
     "name": "stdout",
     "output_type": "stream",
     "text": [
      "infected\n"
     ]
    },
    {
     "name": "stderr",
     "output_type": "stream",
     "text": [
      "C:\\Users\\Sandun\\AppData\\Local\\Programs\\Python\\Python312\\Lib\\site-packages\\sklearn\\base.py:493: UserWarning: X does not have valid feature names, but RandomForestClassifier was fitted with feature names\n",
      "  warnings.warn(\n"
     ]
    }
   ],
   "source": [
    "# Making a prediction using the loaded model for a sample input data\n",
    "pred = model.predict([[58,0,0,100,248,0,0,122,0,1,1,0,2]])\n",
    "\n",
    "# Checking the prediction result and printing the corresponding message\n",
    "if pred[0] == 0:\n",
    "  print(\"not infected\")\n",
    "else:\n",
    "  print(\"infected\")"
   ]
  },
  {
   "cell_type": "code",
   "execution_count": null,
   "id": "44d04175-adb0-4da3-9c7b-30b316641f64",
   "metadata": {},
   "outputs": [],
   "source": [
    "(58,0,0,100,248,0,0,122,0,1,1,0,2)"
   ]
  }
 ],
 "metadata": {
  "kernelspec": {
   "display_name": "Python 3 (ipykernel)",
   "language": "python",
   "name": "python3"
  },
  "language_info": {
   "codemirror_mode": {
    "name": "ipython",
    "version": 3
   },
   "file_extension": ".py",
   "mimetype": "text/x-python",
   "name": "python",
   "nbconvert_exporter": "python",
   "pygments_lexer": "ipython3",
   "version": "3.12.2"
  }
 },
 "nbformat": 4,
 "nbformat_minor": 5
}
